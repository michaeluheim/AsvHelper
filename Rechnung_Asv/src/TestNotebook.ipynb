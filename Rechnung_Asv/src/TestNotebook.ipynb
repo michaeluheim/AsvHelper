{
 "cells": [
  {
   "cell_type": "code",
   "execution_count": 1,
   "id": "38ff725a",
   "metadata": {},
   "outputs": [
    {
     "name": "stdout",
     "output_type": "stream",
     "text": [
      "{'20251008-002': {'name': 'Winzerhöfle Blass', 'adresse': 'Ringgasse 1', 'ort': '97247 Untereisenheim', 'id': 30, 'anzahl': 1, 'rechnungsgrund': 'Bandenwerbung ASV Untereisenheim 2025'}}\n"
     ]
    }
   ],
   "source": [
    "import pandas as pd\n",
    "from helpers import generiere_rechnungsnummer\n",
    "\n",
    "path =   r'/home/michael/Repo/Rechnung_Asv/import/ListRechnungBande.csv'\n",
    "\n",
    "def rechnung_dict_csv(path: str) -> dict:\n",
    "    df = pd.read_csv(\n",
    "    path,\n",
    "    sep=';',\n",
    "    decimal=','\n",
    "    )\n",
    "    rechnung_dict = {}\n",
    "    jahr = pd.Timestamp.now().year  # einmal berechnen, nicht pro Zeile\n",
    "\n",
    "    for _, row in df.iterrows():\n",
    "        rn = generiere_rechnungsnummer()\n",
    "        grund = f\"Bandenwerbung ASV Untereisenheim {jahr}\"\n",
    "\n",
    "        rechnung_dict[rn] = {\n",
    "            \"name\": row[\"Firmenname\"],\n",
    "            \"adresse\": row[\"Straße\"],\n",
    "            \"ort\": row[\"Ort\"],\n",
    "            \"id\": row[\"ID\"],\n",
    "            \"anzahl\": int(row[\"Anzahl\"]) if pd.notna(row[\"Anzahl\"]) else 0,\n",
    "            \"rechnungsgrund\": grund,\n",
    "        }\n",
    "\n",
    "    return rechnung_dict\n",
    "\n",
    "print(rechnung_dict_csv(path))\n",
    "\n"
   ]
  }
 ],
 "metadata": {
  "kernelspec": {
   "display_name": ".venv",
   "language": "python",
   "name": "python3"
  },
  "language_info": {
   "codemirror_mode": {
    "name": "ipython",
    "version": 3
   },
   "file_extension": ".py",
   "mimetype": "text/x-python",
   "name": "python",
   "nbconvert_exporter": "python",
   "pygments_lexer": "ipython3",
   "version": "3.12.3"
  }
 },
 "nbformat": 4,
 "nbformat_minor": 5
}
